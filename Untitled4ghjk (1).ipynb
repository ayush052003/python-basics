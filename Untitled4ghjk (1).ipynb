{
 "cells": [
  {
   "cell_type": "code",
   "execution_count": 1,
   "id": "fff0d432-f3c2-467f-9090-3b17f188159a",
   "metadata": {},
   "outputs": [
    {
     "data": {
      "text/plain": [
       "'Q1. Create one variable containing following type of data:\\n\\n(i)\\tstring\\n\\n(ii)\\tlist\\n\\n(iii)\\tfloat\\n\\n(iv)\\ttuple'"
      ]
     },
     "execution_count": 1,
     "metadata": {},
     "output_type": "execute_result"
    }
   ],
   "source": [
    "'''Q1. Create one variable containing following type of data:\n",
    "\n",
    "(i)\tstring\n",
    "\n",
    "(ii)\tlist\n",
    "\n",
    "(iii)\tfloat\n",
    "\n",
    "(iv)\ttuple'''"
   ]
  },
  {
   "cell_type": "code",
   "execution_count": 8,
   "id": "cf240e7f-73f6-4de8-b38e-60d2455b8f82",
   "metadata": {},
   "outputs": [
    {
     "name": "stdout",
     "output_type": "stream",
     "text": [
      "['pwskills', 12, 34, ('keyboard', 45.89), ['python', 29, 89], 45, 78]\n"
     ]
    }
   ],
   "source": [
    "# let suppose we make a variable named as \"var\",which consist of all these things\n",
    "var = [\"pwskills\",12,34,(\"keyboard\",45.89),[\"python\",29,89],45,78]\n",
    "print(var)"
   ]
  },
  {
   "cell_type": "code",
   "execution_count": 9,
   "id": "63123ca3-c7f6-400f-b42a-5b4c2f5c7c76",
   "metadata": {},
   "outputs": [
    {
     "data": {
      "text/plain": [
       "'Q2. Given are some following variables containing data:\\n\\n(i)\\tvar1 = ‘ ‘\\n\\n(ii)\\tvar2 = ‘[ DS , ML , Python]’\\n\\n(iii)\\tvar3 = [ ‘DS’ , ’ML’ , ‘Python’ ]\\n\\n(iv)\\tvar4 = 1.\\n\\n\\nWhat will be the data type of the above given variable.'"
      ]
     },
     "execution_count": 9,
     "metadata": {},
     "output_type": "execute_result"
    }
   ],
   "source": [
    "'''Q2. Given are some following variables containing data:\n",
    "\n",
    "(i)\tvar1 = ‘ ‘\n",
    "\n",
    "(ii)\tvar2 = ‘[ DS , ML , Python]’\n",
    "\n",
    "(iii)\tvar3 = [ ‘DS’ , ’ML’ , ‘Python’ ]\n",
    "\n",
    "(iv)\tvar4 = 1.\n",
    "\n",
    "\n",
    "What will be the data type of the above given variable.'''"
   ]
  },
  {
   "cell_type": "code",
   "execution_count": 10,
   "id": "fdecb2a6-1656-4f02-9958-bb82737c7e40",
   "metadata": {},
   "outputs": [
    {
     "data": {
      "text/plain": [
       "str"
      ]
     },
     "execution_count": 10,
     "metadata": {},
     "output_type": "execute_result"
    }
   ],
   "source": [
    "var = ''\n",
    "type(var)"
   ]
  },
  {
   "cell_type": "code",
   "execution_count": 11,
   "id": "23e29522-2d3b-4b64-a226-951073a75df4",
   "metadata": {},
   "outputs": [
    {
     "data": {
      "text/plain": [
       "str"
      ]
     },
     "execution_count": 11,
     "metadata": {},
     "output_type": "execute_result"
    }
   ],
   "source": [
    "var2 = '[DS,ML,PYTHON]'\n",
    "type(var2)"
   ]
  },
  {
   "cell_type": "code",
   "execution_count": 12,
   "id": "3619fb2b-0465-4824-9bba-a76699d9efc0",
   "metadata": {},
   "outputs": [
    {
     "data": {
      "text/plain": [
       "list"
      ]
     },
     "execution_count": 12,
     "metadata": {},
     "output_type": "execute_result"
    }
   ],
   "source": [
    "var3 = ['DS','ML','PYTHON']\n",
    "type(var3)"
   ]
  },
  {
   "cell_type": "code",
   "execution_count": 13,
   "id": "3d5efbec-faeb-4c50-91a9-ab3f75447e70",
   "metadata": {},
   "outputs": [
    {
     "data": {
      "text/plain": [
       "float"
      ]
     },
     "execution_count": 13,
     "metadata": {},
     "output_type": "execute_result"
    }
   ],
   "source": [
    "var4 = 1.\n",
    "type(var4)"
   ]
  },
  {
   "cell_type": "code",
   "execution_count": 14,
   "id": "bf925949-4856-47d6-bf7d-16a7e1593d15",
   "metadata": {},
   "outputs": [
    {
     "data": {
      "text/plain": [
       "'Q3. Explain the use of the following operators using an example:\\n\\n(i)\\t/\\n\\n(ii)\\t%\\xa0\\n\\n(iii)\\t//\\n\\n(iv)\\t**'"
      ]
     },
     "execution_count": 14,
     "metadata": {},
     "output_type": "execute_result"
    }
   ],
   "source": [
    "'''Q3. Explain the use of the following operators using an example:\n",
    "\n",
    "(i)\t/\n",
    "\n",
    "(ii)\t% \n",
    "\n",
    "(iii)\t//\n",
    "\n",
    "(iv)\t**'''"
   ]
  },
  {
   "cell_type": "code",
   "execution_count": 15,
   "id": "c83270db-67b1-4ab2-b522-a3bab2956356",
   "metadata": {},
   "outputs": [
    {
     "data": {
      "text/plain": [
       "1.5"
      ]
     },
     "execution_count": 15,
     "metadata": {},
     "output_type": "execute_result"
    }
   ],
   "source": [
    "# \"/\" operator is gernerally use to find quotient when one value is divided by other\n",
    "3/2"
   ]
  },
  {
   "cell_type": "code",
   "execution_count": 16,
   "id": "c3657e5d-0db9-4413-94fc-555e0ca2969c",
   "metadata": {},
   "outputs": [
    {
     "data": {
      "text/plain": [
       "1"
      ]
     },
     "execution_count": 16,
     "metadata": {},
     "output_type": "execute_result"
    }
   ],
   "source": [
    "# \"%\" operator is generally use to find remainder when one value is divided by other\n",
    "3%2"
   ]
  },
  {
   "cell_type": "code",
   "execution_count": 17,
   "id": "fecbcef4-2c06-4e27-bec6-5b37053e6ca0",
   "metadata": {},
   "outputs": [
    {
     "data": {
      "text/plain": [
       "1"
      ]
     },
     "execution_count": 17,
     "metadata": {},
     "output_type": "execute_result"
    }
   ],
   "source": [
    "# \"//\" operator is generally use to find the integer part od the quotient when one value is divided by other\n",
    "3//2"
   ]
  },
  {
   "cell_type": "code",
   "execution_count": 18,
   "id": "73151e65-68d2-4246-8f3a-76d9446048d2",
   "metadata": {},
   "outputs": [
    {
     "data": {
      "text/plain": [
       "9"
      ]
     },
     "execution_count": 18,
     "metadata": {},
     "output_type": "execute_result"
    }
   ],
   "source": [
    "# \"**\" operator is generally use to raise a number to the power of an other number.\n",
    "3**2"
   ]
  },
  {
   "cell_type": "code",
   "execution_count": 19,
   "id": "b7269ea8-8476-4660-b17a-386635f1b61f",
   "metadata": {},
   "outputs": [
    {
     "data": {
      "text/plain": [
       "'Q4. Create a list of length 10 of your choice containing multiple types of data. Using for loop print the \\nelement and its data type.'"
      ]
     },
     "execution_count": 19,
     "metadata": {},
     "output_type": "execute_result"
    }
   ],
   "source": [
    "'''Q4. Create a list of length 10 of your choice containing multiple types of data. Using for loop print the \n",
    "element and its data type.'''"
   ]
  },
  {
   "cell_type": "code",
   "execution_count": 23,
   "id": "2818898a-c300-43ec-8a33-1d5fc44970f9",
   "metadata": {},
   "outputs": [
    {
     "name": "stdout",
     "output_type": "stream",
     "text": [
      "ayush <class 'str'>\n",
      "34 <class 'int'>\n",
      "56 <class 'int'>\n",
      "78.89 <class 'float'>\n",
      "[67, 78, 'riddhi'] <class 'list'>\n",
      "('hp', 'lenovo', 56) <class 'tuple'>\n",
      "45.8 <class 'float'>\n",
      "(2+7j) <class 'complex'>\n"
     ]
    }
   ],
   "source": [
    "list = [\"ayush\",34,56,78.89,[67,78,\"riddhi\"],(\"hp\",\"lenovo\",56),45.8,2+7j]\n",
    "for i in list:\n",
    "    print(i,type(i))"
   ]
  },
  {
   "cell_type": "code",
   "execution_count": 24,
   "id": "2f129cb5-01cd-4bff-a623-692ef3aee31a",
   "metadata": {},
   "outputs": [
    {
     "data": {
      "text/plain": [
       "'Q5. Using a while loop, verify if the number A is purely divisible by number B and if so then how many \\ntimes it can be divisible.'"
      ]
     },
     "execution_count": 24,
     "metadata": {},
     "output_type": "execute_result"
    }
   ],
   "source": [
    "'''Q5. Using a while loop, verify if the number A is purely divisible by number B and if so then how many \n",
    "times it can be divisible.'''"
   ]
  },
  {
   "cell_type": "code",
   "execution_count": 30,
   "id": "fda67e5e-66f3-479a-ab99-af79bba52749",
   "metadata": {},
   "outputs": [
    {
     "name": "stdin",
     "output_type": "stream",
     "text": [
      "enter the number:  49\n"
     ]
    },
    {
     "name": "stdout",
     "output_type": "stream",
     "text": [
      "Divisible\n"
     ]
    }
   ],
   "source": [
    "#here we take a program to check weather a number is divisible by 7 or not\n",
    "def isDivisible(num) :\n",
    "     \n",
    "    # If number is negative, make it positive\n",
    "    if num < 0 :\n",
    "        return isDivisible( -num )\n",
    " \n",
    "    # Base cases\n",
    "    if( num == 0 or num == 7 ) :\n",
    "        return True\n",
    "     \n",
    "    if( num < 10 ) :\n",
    "        return False\n",
    "         \n",
    "    # Recur for ( num / 10 - 2 * num % 10 )\n",
    "    return isDivisible( num // 10 - 2 * ( num - num // 10 * 10 ) )\n",
    "     \n",
    "# Driver program\n",
    "num = int(input(\"enter the number: \"))\n",
    "if(isDivisible(num)) :\n",
    "    print (\"Divisible\")\n",
    "else :\n",
    "    print (\"Not Divisible\")"
   ]
  },
  {
   "cell_type": "code",
   "execution_count": 25,
   "id": "ec9a9977-f7f4-444a-beca-faf08fadfe81",
   "metadata": {},
   "outputs": [
    {
     "data": {
      "text/plain": [
       "'Q6. Create a list containing 25 int type data. Using for loop and if-else condition print if the element is \\ndivisible by 3 or not.'"
      ]
     },
     "execution_count": 25,
     "metadata": {},
     "output_type": "execute_result"
    }
   ],
   "source": [
    "'''Q6. Create a list containing 25 int type data. Using for loop and if-else condition print if the element is \n",
    "divisible by 3 or not.'''"
   ]
  },
  {
   "cell_type": "code",
   "execution_count": 26,
   "id": "c715fa3b-201a-4208-b193-6c604610e73a",
   "metadata": {},
   "outputs": [
    {
     "name": "stdout",
     "output_type": "stream",
     "text": [
      "3 yes divisible by 3\n",
      "45 yes divisible by 3\n",
      "15 yes divisible by 3\n",
      "24 yes divisible by 3\n",
      "27 yes divisible by 3\n",
      "54 yes divisible by 3\n",
      "18 yes divisible by 3\n",
      "9 yes divisible by 3\n",
      "12 yes divisible by 3\n",
      "69 yes divisible by 3\n"
     ]
    }
   ],
   "source": [
    "list = [3,45,67,89,15,24,27,17,54,23,35,46,18,9,10,11,12,17,98,86,56,32,8,7,29,26,59,69]\n",
    "for i in list:\n",
    "    if i % 3 == 0:\n",
    "        print(i,\"yes divisible by 3\")"
   ]
  },
  {
   "cell_type": "code",
   "execution_count": 27,
   "id": "a6b8f89f-5e95-47ac-b482-9bcdf8e7d0b9",
   "metadata": {},
   "outputs": [
    {
     "data": {
      "text/plain": [
       "'Q7. What do you understand about mutable and immutable data types? Give examples for both showing \\nthis property.'"
      ]
     },
     "execution_count": 27,
     "metadata": {},
     "output_type": "execute_result"
    }
   ],
   "source": [
    "'''Q7. What do you understand about mutable and immutable data types? Give examples for both showing \n",
    "this property.'''"
   ]
  },
  {
   "cell_type": "code",
   "execution_count": 28,
   "id": "ac992e23-a24a-4d8e-b49d-415c7b34c77f",
   "metadata": {},
   "outputs": [
    {
     "ename": "TypeError",
     "evalue": "'str' object does not support item assignment",
     "output_type": "error",
     "traceback": [
      "\u001b[0;31m---------------------------------------------------------------------------\u001b[0m",
      "\u001b[0;31mTypeError\u001b[0m                                 Traceback (most recent call last)",
      "Cell \u001b[0;32mIn[28], line 4\u001b[0m\n\u001b[1;32m      2\u001b[0m \u001b[38;5;124;03m'''Some of the example of immutable data types are ex -- int,str,float,bool'''\u001b[39;00m\n\u001b[1;32m      3\u001b[0m \u001b[38;5;28mstr\u001b[39m \u001b[38;5;241m=\u001b[39m \u001b[38;5;124m\"\u001b[39m\u001b[38;5;124mryzen\u001b[39m\u001b[38;5;124m\"\u001b[39m\n\u001b[0;32m----> 4\u001b[0m \u001b[38;5;28;43mstr\u001b[39;49m\u001b[43m[\u001b[49m\u001b[38;5;241;43m2\u001b[39;49m\u001b[43m]\u001b[49m \u001b[38;5;241m=\u001b[39m \u001b[38;5;124m\"\u001b[39m\u001b[38;5;124mg\u001b[39m\u001b[38;5;124m\"\u001b[39m\n\u001b[1;32m      5\u001b[0m \u001b[38;5;28mprint\u001b[39m(\u001b[38;5;28mstr\u001b[39m)\n",
      "\u001b[0;31mTypeError\u001b[0m: 'str' object does not support item assignment"
     ]
    }
   ],
   "source": [
    "# Immutable data types are those data types whose values cannot be modified once they are created means we cannot change or modify them \n",
    "'''Some of the example of immutable data types are ex -- int,str,float,bool'''\n",
    "str = \"ryzen\"\n",
    "str[2] = \"g\"\n",
    "print(str)"
   ]
  },
  {
   "cell_type": "code",
   "execution_count": 29,
   "id": "b9d0765e-8b8c-457c-89a3-d5fb51954032",
   "metadata": {},
   "outputs": [
    {
     "name": "stdout",
     "output_type": "stream",
     "text": [
      "[23, 45, 'Hp', 'tuple']\n"
     ]
    }
   ],
   "source": [
    "# Mutable data types are those data types whose values can be modified once they are created means we can change or modify them \n",
    "'''Some of the example of mutable data types are ex -- list,dictionary,set'''\n",
    "list = [23,45,\"pavilion\",\"tuple\"]\n",
    "list[2] = \"Hp\"\n",
    "print(list)"
   ]
  },
  {
   "cell_type": "code",
   "execution_count": null,
   "id": "878f8aab-a5bf-4b61-9b5d-a449528fa5ea",
   "metadata": {},
   "outputs": [],
   "source": []
  }
 ],
 "metadata": {
  "kernelspec": {
   "display_name": "Python 3 (ipykernel)",
   "language": "python",
   "name": "python3"
  },
  "language_info": {
   "codemirror_mode": {
    "name": "ipython",
    "version": 3
   },
   "file_extension": ".py",
   "mimetype": "text/x-python",
   "name": "python",
   "nbconvert_exporter": "python",
   "pygments_lexer": "ipython3",
   "version": "3.10.8"
  }
 },
 "nbformat": 4,
 "nbformat_minor": 5
}
